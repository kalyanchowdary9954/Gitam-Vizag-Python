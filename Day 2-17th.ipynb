{
 "cells": [
  {
   "cell_type": "code",
   "execution_count": 4,
   "metadata": {},
   "outputs": [
    {
     "name": "stdout",
     "output_type": "stream",
     "text": [
      "which year:2020\n",
      "leap year\n"
     ]
    }
   ],
   "source": [
    "#check the inpu in leap year or not\n",
    "year=int(input('which year:'))\n",
    "if year % 400 == 0 or (year % 100 !=0 and year %4 ==0):\n",
    "    print('leap year')\n",
    "else:\n",
    "    print('not a leap year')"
   ]
  },
  {
   "cell_type": "markdown",
   "metadata": {},
   "source": [
    "### whie loop"
   ]
  },
  {
   "cell_type": "code",
   "execution_count": 11,
   "metadata": {},
   "outputs": [
    {
     "name": "stdout",
     "output_type": "stream",
     "text": [
      "enter your limit:56\n",
      "1  2  3  4  5  6  7  8  9  10  11  12  13  14  15  16  17  18  19  20  21  22  23  24  25  26  27  28  29  30  31  32  33  34  35  36  37  38  39  40  41  42  43  44  45  46  47  48  49  50  51  52  53  54  55  56  "
     ]
    }
   ],
   "source": [
    "n = int(input('enter your limit:'))\n",
    "i = 1\n",
    "while i <= n:\n",
    "     print(i,end='  ')\n",
    "     i += 1"
   ]
  },
  {
   "cell_type": "code",
   "execution_count": 16,
   "metadata": {},
   "outputs": [
    {
     "name": "stdout",
     "output_type": "stream",
     "text": [
      "enter your number:10\n",
      "sum = 30  "
     ]
    }
   ],
   "source": [
    "even = int(input('enter a number:'))\n",
    "i = 1\n",
    "sum = 0\n",
    "while i <= even:\n",
    "    if i % 2 == 0:\n",
    "        sum = sum + i\n",
    "    i += 1\n",
    "print('sum =',sum , end='  ')\n",
    "n = n // 10"
   ]
  },
  {
   "cell_type": "code",
   "execution_count": 22,
   "metadata": {},
   "outputs": [
    {
     "name": "stdout",
     "output_type": "stream",
     "text": [
      "enter a number:547\n",
      "7 4 5 "
     ]
    }
   ],
   "source": [
    " n = int(input('enter a number:'))\n",
    "while n != 0:\n",
    "    print(n%10,end=' ')\n",
    "    n= n // 10"
   ]
  },
  {
   "cell_type": "markdown",
   "metadata": {},
   "source": [
    "### functional program\n",
    "\n",
    "- single\n",
    "- easy understand\n",
    "- better resudubility\n",
    "- length program will be divided into subprograms"
   ]
  },
  {
   "cell_type": "code",
   "execution_count": 23,
   "metadata": {},
   "outputs": [
    {
     "data": {
      "text/plain": [
       "14"
      ]
     },
     "execution_count": 23,
     "metadata": {},
     "output_type": "execute_result"
    }
   ],
   "source": [
    "def even_no(n):\n",
    "    sum = 0\n",
    "    while n!= 0:\n",
    "        r = n %10\n",
    "        if r % 2 == 0:\n",
    "            sum = sum + r\n",
    "        n = n // 10\n",
    "    return sum\n",
    "even_no(5614304)"
   ]
  },
  {
   "cell_type": "code",
   "execution_count": 26,
   "metadata": {},
   "outputs": [
    {
     "data": {
      "text/plain": [
       "9"
      ]
     },
     "execution_count": 26,
     "metadata": {},
     "output_type": "execute_result"
    }
   ],
   "source": [
    "#input as a number\n",
    "def large_digit(n):\n",
    "    large = 0\n",
    "    while n !=0:\n",
    "        rem = n % 10\n",
    "        if rem > large:\n",
    "            large = rem\n",
    "        n =n // 10\n",
    "    return large\n",
    "large_digit(15249)"
   ]
  },
  {
   "cell_type": "code",
   "execution_count": 31,
   "metadata": {},
   "outputs": [
    {
     "name": "stdout",
     "output_type": "stream",
     "text": [
      "yes\n",
      "no\n"
     ]
    }
   ],
   "source": [
    "def factorial(x):\n",
    "    fact = 1\n",
    "    i = 1\n",
    "    while i <= x:\n",
    "        fact = fact * i\n",
    "        i = i + 1\n",
    "    return fact\n",
    "rev\n",
    "def fact_sum(n):\n",
    "    buffer = n\n",
    "    s = 0\n",
    "    while n != 0:\n",
    "        rem = n % 10\n",
    "        s = s + factorial(rem)\n",
    "        n = n // 10\n",
    "    if buffer == s:\n",
    "        return\"yes\"\n",
    "    else:\n",
    "        return\"no\"\n",
    "    return\n",
    "\n",
    "\n",
    "print(fact_sum(145))\n",
    "print(fact_sum(123))"
   ]
  },
  {
   "cell_type": "code",
   "execution_count": null,
   "metadata": {},
   "outputs": [],
   "source": [
    "def palendrome(n):\n",
    "    rev = 0"
   ]
  }
 ],
 "metadata": {
  "kernelspec": {
   "display_name": "Python 3",
   "language": "python",
   "name": "python3"
  },
  "language_info": {
   "codemirror_mode": {
    "name": "ipython",
    "version": 3
   },
   "file_extension": ".py",
   "mimetype": "text/x-python",
   "name": "python",
   "nbconvert_exporter": "python",
   "pygments_lexer": "ipython3",
   "version": "3.7.3"
  }
 },
 "nbformat": 4,
 "nbformat_minor": 2
}
